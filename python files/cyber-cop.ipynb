{
  "cells": [
    {
      "cell_type": "code",
      "execution_count": 5,
      "metadata": {
        "id": "IEgPSuSfl6KG"
      },
      "outputs": [],
      "source": [
        "#importing libraries\n",
        "\n",
        "# For Data Processing & ML Models\n",
        "import numpy as np\n",
        "from sklearn.utils import shuffle\n",
        "from sklearn.model_selection import train_test_split\n",
        "from sklearn.metrics import classification_report\n",
        "from sklearn.metrics import confusion_matrix as cm\n",
        "from tensorflow import keras\n",
        "from tensorflow.keras.layers import *\n",
        "from tensorflow.keras.losses import *\n",
        "from tensorflow.keras.models import *\n",
        "from tensorflow.keras.metrics import *\n",
        "from tensorflow.keras.optimizers import *\n",
        "from tensorflow.keras.applications import *\n",
        "from tensorflow.keras.preprocessing.image import load_img\n",
        "from PIL import Image, ImageEnhance\n",
        "\n",
        "# For Data Visualization\n",
        "import matplotlib.pyplot as plt\n",
        "import seaborn as sns\n",
        "\n",
        "# Miscellaneous\n",
        "# from tqdm import tqdm\n",
        "import os\n",
        "import random\n"
      ]
    },
    {
      "cell_type": "code",
      "execution_count": 6,
      "metadata": {
        "colab": {
          "base_uri": "https://localhost:8080/"
        },
        "id": "3sA9nD2pV9Pi",
        "outputId": "b649478c-ed85-4156-cb05-55ef687602be"
      },
      "outputs": [
        {
          "output_type": "stream",
          "name": "stdout",
          "text": [
            "Drive already mounted at /content/drive; to attempt to forcibly remount, call drive.mount(\"/content/drive\", force_remount=True).\n"
          ]
        }
      ],
      "source": [
        "from google.colab import drive\n",
        "drive.mount('/content/drive')"
      ]
    },
    {
      "cell_type": "code",
      "execution_count": 7,
      "metadata": {
        "id": "EOmMn5JKmBni"
      },
      "outputs": [],
      "source": [
        "#folder mount\n",
        "\n",
        "data_dir = '/content/drive/MyDrive/hdata/'"
      ]
    },
    {
      "cell_type": "code",
      "execution_count": 8,
      "metadata": {
        "id": "ImMZqZ_PmSsR"
      },
      "outputs": [],
      "source": [
        "all_paths = []\n",
        "all_labels = []\n",
        "\n",
        "for label in os.listdir(data_dir):\n",
        "    for image in os.listdir(data_dir+label):\n",
        "        all_paths.append(data_dir+label+'/'+image)\n",
        "        all_labels.append(label)\n",
        "\n",
        "all_paths, all_labels = shuffle(all_paths, all_labels)\n",
        "# ['normal','notnormal','violence']"
      ]
    },
    {
      "cell_type": "code",
      "execution_count": 9,
      "metadata": {
        "colab": {
          "base_uri": "https://localhost:8080/",
          "height": 357
        },
        "id": "coWN99b9V0Uv",
        "outputId": "a64b9cce-94f6-4b17-db21-7098575e655c"
      },
      "outputs": [
        {
          "output_type": "display_data",
          "data": {
            "text/plain": [
              "<Figure size 1008x432 with 1 Axes>"
            ],
            "image/png": "[encoded data removed]"
          },
          "metadata": {}
        }
      ],
      "source": [
        "plt.figure(figsize=(14,6))\n",
        "colors = [\"#9D61C8\", \"#B799CB\", \"#ae7cd1\"]\n",
        "plt.pie([len([x for x in all_labels if x=='normal']),\n",
        "         len([x for x in all_labels if x=='notnormal']),\n",
        "         len([x for x in all_labels if x=='violence'])],\n",
        "        labels=['normal','notnormal','violence'],\n",
        "        colors=colors, autopct='%.1f%%', explode=(0.025,0.025,0.025),\n",
        "        startangle=45);"
      ]
    },
    {
      "cell_type": "code",
      "execution_count": 10,
      "metadata": {
        "id": "_DxwEwCCWJAg"
      },
      "outputs": [],
      "source": [
        "#Splitting dataset\n",
        "# 80% - train data \n",
        "# 20% - test data or validation data\n",
        "\n",
        "x_train, x_val, y_train, y_val = train_test_split(all_paths, all_labels, test_size=0.2, random_state=42)"
      ]
    },
    {
      "cell_type": "code",
      "execution_count": 11,
      "metadata": {
        "colab": {
          "base_uri": "https://localhost:8080/",
          "height": 295
        },
        "id": "GnzxElRIWNde",
        "outputId": "b96295b3-1443-40d8-dcd4-03bdc3882478"
      },
      "outputs": [
        {
          "output_type": "display_data",
          "data": {
            "text/plain": [
              "<Figure size 1080x432 with 1 Axes>"
            ],
            "image/png": "[encoded data removed]"
          },
          "metadata": {
            "needs_background": "light"
          }
        }
      ],
      "source": [
        "# ['dandelion','daisy', 'sunflower', 'tulip', 'rose'] \n",
        "plt.figure(figsize=(15, 6))\n",
        "sns.barplot(x=[len([x for x in y_train if x=='normal']),\n",
        "               len([x for x in y_train if x=='notnormal']),\n",
        "               len([x for x in y_train if x=='violence']),\n",
        "               len([x for x in y_val if x=='normal']),\n",
        "               len([x for x in y_val if x=='notnormal']),\n",
        "               len([x for x in y_val if x=='violence'])],\n",
        "            y=['normal -Train',\n",
        "               'notnormal -Train',\n",
        "               'violence -Train',\n",
        "               'normal -Val',\n",
        "               'notnormal -Val',\n",
        "               'violence -Val',\n",
        "],\n",
        "           palette = sns.light_palette(\"#9D61C8\", reverse = True, n_colors = int(19 * 1.2)))\n",
        "plt.show()"
      ]
    },
    {
      "cell_type": "code",
      "execution_count": 12,
      "metadata": {
        "id": "Tw8PBCXLWN8q"
      },
      "outputs": [],
      "source": [
        "#Data augmentation\n",
        "\n",
        "# Random brightness: 60%- 140%\n",
        "# Random contrast: 60%- 140%\n",
        "# Random saturation: 60%- 140%\n",
        "# horizontal flip\n",
        "\n",
        "IMAGE_SIZE = 200\n",
        "\n",
        "def augment_image(image):\n",
        "    if random.uniform(0,1)>0.5:\n",
        "        image = np.fliplr(image)\n",
        "    image = Image.fromarray(np.uint8(image))\n",
        "    image = ImageEnhance.Brightness(image).enhance(random.uniform(0.6,1.4))\n",
        "    image = ImageEnhance.Contrast(image).enhance(random.uniform(0.6,1.4))\n",
        "    image = ImageEnhance.Color(image).enhance(random.uniform(0.6,1.4))\n",
        "    return image\n",
        "\n",
        "def open_images(paths, augment=True):\n",
        "    images = []\n",
        "    for path in paths:\n",
        "        image = load_img(path, target_size=(IMAGE_SIZE,IMAGE_SIZE))\n",
        "        image = np.array(image)\n",
        "        if augment:\n",
        "            image = augment_image(image)\n",
        "        image = np.array(image)/255.0\n",
        "        images.append(image)\n",
        "    return np.array(images)"
      ]
    },
    {
      "cell_type": "code",
      "execution_count": 13,
      "metadata": {
        "id": "w3SMbq79WP1t"
      },
      "outputs": [],
      "source": [
        "#Data Generation\n",
        "\n",
        "unique_labels = os.listdir(data_dir)\n",
        "\n",
        "#labels encoding \n",
        "\n",
        "def encode_label(labels):\n",
        "    encoded = []\n",
        "    for x in labels:\n",
        "        encoded.append(unique_labels.index(x))\n",
        "    return np.array(encoded)\n",
        "\n",
        "def decode_label(labels):\n",
        "    decoded = []\n",
        "    for x in labels:\n",
        "        decoded.append(unique_labels[x])\n",
        "    return np.array(decoded)\n",
        "\n",
        "def data_gen(paths, labels, batch_size=12, epochs=3, augment=True):\n",
        "    for _ in range(epochs):\n",
        "        for x in range(0, len(paths), batch_size):\n",
        "            batch_paths = paths[x:x+batch_size]\n",
        "            batch_images = open_images(batch_paths, augment=augment)\n",
        "            batch_labels = labels[x:x+batch_size]\n",
        "            batch_labels = encode_label(batch_labels)\n",
        "            yield batch_images, batch_labels"
      ]
    },
    {
      "cell_type": "code",
      "execution_count": 14,
      "metadata": {
        "colab": {
          "base_uri": "https://localhost:8080/"
        },
        "id": "99Jj0Ba-WRcs",
        "outputId": "fd4fe8d7-46db-4811-e3cb-e09d55718738"
      },
      "outputs": [
        {
          "output_type": "stream",
          "name": "stdout",
          "text": [
            "Downloading data from https://storage.googleapis.com/tensorflow/keras-applications/vgg16/vgg16_weights_tf_dim_ordering_tf_kernels_notop.h5\n",
            "58892288/58889256 [==============================] - 0s 0us/step\n",
            "58900480/58889256 [==============================] - 0s 0us/step\n"
          ]
        }
      ],
      "source": [
        "#Model\n",
        "\n",
        "base_model = VGG16(input_shape=(IMAGE_SIZE, IMAGE_SIZE, 3), weights='imagenet', include_top=False)\n",
        "for layer in base_model.layers:\n",
        "    layer.trainable = False\n",
        "base_model.layers[-2].trainable = True\n",
        "base_model.layers[-3].trainable = True\n",
        "base_model.layers[-4].trainable = True"
      ]
    },
    {
      "cell_type": "code",
      "execution_count": 15,
      "metadata": {
        "colab": {
          "base_uri": "https://localhost:8080/"
        },
        "id": "5aIL4ja9WS-9",
        "outputId": "80b1d04d-843e-46f5-fe9a-b6f728c7c41b"
      },
      "outputs": [
        {
          "output_type": "stream",
          "name": "stdout",
          "text": [
            "Model: \"sequential\"\n",
            "_________________________________________________________________\n",
            " Layer (type)                Output Shape              Param #   \n",
            "=================================================================\n",
            " vgg16 (Functional)          (None, 6, 6, 512)         14714688  \n",
            "                                                                 \n",
            " flatten (Flatten)           (None, 18432)             0         \n",
            "                                                                 \n",
            " dropout (Dropout)           (None, 18432)             0         \n",
            "                                                                 \n",
            " dense (Dense)               (None, 512)               9437696   \n",
            "                                                                 \n",
            " dropout_1 (Dropout)         (None, 512)               0         \n",
            "                                                                 \n",
            " dense_1 (Dense)             (None, 256)               131328    \n",
            "                                                                 \n",
            " dropout_2 (Dropout)         (None, 256)               0         \n",
            "                                                                 \n",
            " dense_2 (Dense)             (None, 3)                 771       \n",
            "                                                                 \n",
            "=================================================================\n",
            "Total params: 24,284,483\n",
            "Trainable params: 16,649,219\n",
            "Non-trainable params: 7,635,264\n",
            "_________________________________________________________________\n"
          ]
        }
      ],
      "source": [
        "model = Sequential()\n",
        "model.add(Input(shape=(IMAGE_SIZE,IMAGE_SIZE,3)))\n",
        "model.add(base_model)\n",
        "model.add(Flatten())\n",
        "model.add(Dropout(0.3))\n",
        "model.add(Dense(512, activation='relu'))\n",
        "model.add(Dropout(0.25))\n",
        "model.add(Dense(256, activation='relu'))\n",
        "model.add(Dropout(0.25))\n",
        "model.add(Dense(len(unique_labels), activation='softmax'))\n",
        "\n",
        "model.summary()"
      ]
    },
    {
      "cell_type": "code",
      "execution_count": 16,
      "metadata": {
        "id": "33kyk6x7WVe-"
      },
      "outputs": [],
      "source": [
        "model.compile(optimizer=Adam(learning_rate=0.000175),\n",
        "              loss='sparse_categorical_crossentropy',\n",
        "              metrics=['sparse_categorical_accuracy'])"
      ]
    },
    {
      "cell_type": "code",
      "execution_count": 17,
      "metadata": {
        "colab": {
          "base_uri": "https://localhost:8080/"
        },
        "id": "bNjZKComWX37",
        "outputId": "32206423-1798-4304-cdcb-0520a380c80c"
      },
      "outputs": [
        {
          "output_type": "stream",
          "name": "stdout",
          "text": [
            "Epoch 1/10\n",
            "112/112 [==============================] - 882s 8s/step - loss: 0.7029 - sparse_categorical_accuracy: 0.7006\n",
            "Epoch 2/10\n",
            "112/112 [==============================] - 93s 806ms/step - loss: 0.5054 - sparse_categorical_accuracy: 0.7926\n",
            "Epoch 3/10\n",
            "112/112 [==============================] - 91s 818ms/step - loss: 0.4200 - sparse_categorical_accuracy: 0.8263\n",
            "Epoch 4/10\n",
            "112/112 [==============================] - 90s 800ms/step - loss: 0.3522 - sparse_categorical_accuracy: 0.8659\n",
            "Epoch 5/10\n",
            "112/112 [==============================] - 92s 820ms/step - loss: 0.3201 - sparse_categorical_accuracy: 0.8740\n",
            "Epoch 6/10\n",
            "112/112 [==============================] - 91s 814ms/step - loss: 0.2620 - sparse_categorical_accuracy: 0.9052\n",
            "Epoch 7/10\n",
            "112/112 [==============================] - 92s 819ms/step - loss: 0.2127 - sparse_categorical_accuracy: 0.9240\n",
            "Epoch 8/10\n",
            "112/112 [==============================] - 91s 807ms/step - loss: 0.2382 - sparse_categorical_accuracy: 0.9130\n",
            "Epoch 9/10\n",
            "112/112 [==============================] - 90s 806ms/step - loss: 0.2114 - sparse_categorical_accuracy: 0.9237\n",
            "Epoch 10/10\n",
            "112/112 [==============================] - 92s 825ms/step - loss: 0.1835 - sparse_categorical_accuracy: 0.9400\n"
          ]
        }
      ],
      "source": [
        "# Model Training\n",
        "\n",
        "batch_size = 32\n",
        "steps = int(len(x_train)/batch_size)\n",
        "epochs = 10\n",
        "history = model.fit(data_gen(x_train, y_train, batch_size=batch_size, epochs=epochs, augment=True),\n",
        "                    epochs=epochs, steps_per_epoch=steps)"
      ]
    },
    {
      "cell_type": "code",
      "execution_count": 18,
      "metadata": {
        "id": "e_FcYanPWaFf",
        "colab": {
          "base_uri": "https://localhost:8080/",
          "height": 295
        },
        "outputId": "2c86537e-7290-4a46-f623-b42a19cce59f"
      },
      "outputs": [
        {
          "output_type": "display_data",
          "data": {
            "text/plain": [
              "<Figure size 576x288 with 1 Axes>"
            ],
            "image/png": "[encoded data removed]"
          },
          "metadata": {
            "needs_background": "light"
          }
        }
      ],
      "source": [
        "# Accuracy vs loss graph\n",
        "\n",
        "plt.figure(figsize=(8,4))\n",
        "plt.grid(True)\n",
        "plt.plot(history.history['sparse_categorical_accuracy'], '.g-', linewidth=2)\n",
        "plt.plot(history.history['loss'], '.r-', linewidth=2)\n",
        "plt.title('Model Training History')\n",
        "plt.xlabel('epoch')\n",
        "plt.xticks([x for x in range(epochs)])\n",
        "plt.legend(['Accuracy', 'Loss'], loc='upper left', bbox_to_anchor=(1, 1))\n",
        "plt.show()"
      ]
    },
    {
      "cell_type": "code",
      "source": [
        "# Model evalution\n",
        "from tqdm import tqdm\n",
        "batch_size=32\n",
        "steps = int(len(x_val)/batch_size)\n",
        "y_pred = []\n",
        "y_true = []\n",
        "for x,y in tqdm(data_gen(x_val, y_val, batch_size=batch_size, epochs=1, augment=False), total=steps):\n",
        "    pred = model.predict(x)\n",
        "    pred = np.argmax(pred, axis=-1)\n",
        "    for i in decode_label(pred):\n",
        "        y_pred.append(i)\n",
        "    for i in decode_label(y):\n",
        "        y_true.append(i)"
      ],
      "metadata": {
        "colab": {
          "base_uri": "https://localhost:8080/"
        },
        "id": "gqVGVUrIrQM3",
        "outputId": "ffd22a4a-61eb-448b-e929-6d33273239eb"
      },
      "execution_count": 19,
      "outputs": [
        {
          "output_type": "stream",
          "name": "stderr",
          "text": [
            "29it [03:46,  7.80s/it]\n"
          ]
        }
      ]
    },
    {
      "cell_type": "code",
      "source": [
        "print(classification_report(y_true, y_pred))"
      ],
      "metadata": {
        "colab": {
          "base_uri": "https://localhost:8080/"
        },
        "id": "9g8od8TYrTUJ",
        "outputId": "2e0d621e-efd0-42f9-b929-d85ad3145089"
      },
      "execution_count": 20,
      "outputs": [
        {
          "output_type": "stream",
          "name": "stdout",
          "text": [
            "              precision    recall  f1-score   support\n",
            "\n",
            "      normal       0.79      0.89      0.84       341\n",
            "   notnormal       0.91      0.90      0.91       410\n",
            "    violence       0.86      0.64      0.73       148\n",
            "\n",
            "    accuracy                           0.85       899\n",
            "   macro avg       0.85      0.81      0.83       899\n",
            "weighted avg       0.86      0.85      0.85       899\n",
            "\n"
          ]
        }
      ]
    },
    {
      "cell_type": "code",
      "source": [
        "import os\n",
        "from tensorflow.keras.models import load_model\n",
        "model.save('imgclassifier.h5')"
      ],
      "metadata": {
        "id": "mW1E22eWrVXV"
      },
      "execution_count": 21,
      "outputs": []
    },
    {
      "cell_type": "code",
      "source": [
        ""
      ],
      "metadata": {
        "id": "lWF_hORGrXwQ"
      },
      "execution_count": 21,
      "outputs": []
    }
  ],
  "metadata": {
    "accelerator": "GPU",
    "colab": {
      "name": "sentinelhack",
      "provenance": []
    },
    "gpuClass": "standard",
    "kernelspec": {
      "display_name": "Python 3",
      "name": "python3"
    },
    "language_info": {
      "name": "python"
    }
  },
  "nbformat": 4,
  "nbformat_minor": 0
}